{
 "cells": [
  {
   "cell_type": "code",
   "execution_count": 23,
   "id": "2b2589d3",
   "metadata": {},
   "outputs": [],
   "source": [
    "import requests"
   ]
  },
  {
   "cell_type": "code",
   "execution_count": 24,
   "id": "afe89f2d",
   "metadata": {},
   "outputs": [],
   "source": [
    "## localhost"
   ]
  },
  {
   "cell_type": "code",
   "execution_count": 25,
   "id": "20ace288",
   "metadata": {},
   "outputs": [
    {
     "data": {
      "text/plain": [
       "(<Response [200]>, {'foo': 42})"
      ]
     },
     "execution_count": 25,
     "metadata": {},
     "output_type": "execute_result"
    }
   ],
   "source": [
    "r = requests.post('http://localhost:5000/post/', json={'foo': 42})\n",
    "r, r.json()"
   ]
  },
  {
   "cell_type": "code",
   "execution_count": 26,
   "id": "75a19315",
   "metadata": {},
   "outputs": [],
   "source": [
    "## ngrok"
   ]
  },
  {
   "cell_type": "code",
   "execution_count": 27,
   "id": "5914afc4",
   "metadata": {},
   "outputs": [
    {
     "data": {
      "text/plain": [
       "(<Response [200]>, {'foo': 42})"
      ]
     },
     "execution_count": 27,
     "metadata": {},
     "output_type": "execute_result"
    }
   ],
   "source": [
    "# changes each time ngrok is launched\n",
    "ngrok_url = 'https://695586bd7d22.ngrok.io'\n",
    "\n",
    "r = requests.post(f'{ngrok_url}/post/', json={'foo': 42})\n",
    "r, r.json()"
   ]
  },
  {
   "cell_type": "code",
   "execution_count": null,
   "id": "a28d4076",
   "metadata": {},
   "outputs": [],
   "source": []
  }
 ],
 "metadata": {
  "kernelspec": {
   "display_name": "Python 3",
   "language": "python",
   "name": "python3"
  },
  "language_info": {
   "codemirror_mode": {
    "name": "ipython",
    "version": 3
   },
   "file_extension": ".py",
   "mimetype": "text/x-python",
   "name": "python",
   "nbconvert_exporter": "python",
   "pygments_lexer": "ipython3",
   "version": "3.8.8"
  }
 },
 "nbformat": 4,
 "nbformat_minor": 5
}
